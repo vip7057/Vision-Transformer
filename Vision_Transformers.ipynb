{
 "cells": [
  {
   "cell_type": "markdown",
   "metadata": {},
   "source": [
    "Visual Transformers\n",
    "<center><img src=\"https://production-media.paperswithcode.com/methods/Screen_Shot_2021-01-26_at_9.43.31_PM_uI4jjMq.png\" alt=\"Alternative text\"/></center> \n",
    "<center><figcaption>Fig 1. Dosovitskiy, Alexey, et al. \"An image is worth 16x16 words: Transformers for image recognition at scale.\"https://arxiv.org/pdf/2010.11929.pdf. </figcaption></center>                 \n",
    "\n",
    "\n",
    "Transformers have been studied in the context of sequence-to-sequence modelling applications like natural language processing (NLP). Their superior performance to LSTM-based Recurrant neural network gained them a powerful reputation, thanks to their ability to model long sequences. A couple of years ago, transformers have been adapted to the [visual domain](https://arxiv.org/abs/2010.11929) and suprisingly demonstrated better performance compared to the long standing convolutional neural networks conditioned to large-scale datasets. Thanks to their ability to capture global semantic relationships in an image, unlike, CNNs which capture local information within the vicinty of the convolutional kernel window.\n",
    "\n",
    "This repository implements the building blocks of visual transformers (LightViT). Afterwards, trains them on classification task using MNIST and Fashion-MNIST datasets.\n"
   ]
  },
  {
   "cell_type": "code",
   "execution_count": 49,
   "metadata": {},
   "outputs": [
    {
     "data": {
      "text/plain": [
       "'The standard Transformer receives as input a 1D\\nsequence of token embeddings. To handle 2D images, we reshape the image x ∈ R(H×W×C) into a\\nsequence of flattened 2D patches xp ∈R(N×(P^2·C))\\n- , where (H, W) is the resolution of the original image, \\n- C is the number of channels, \\n- (P, P) is the resolution of each image patch, \\n- and N = HW/P^2 is the resulting number of patches, which also serves as the effective input sequence length for the Transformer.\\n- The Transformer uses constant latent vector size D through all of its layers, \\n- so we flatten the patches and map to D dimensions with a trainable linear projection (Eq. 1). \\n- We refer to the output of this projection as the patch embeddings.'"
      ]
     },
     "execution_count": 49,
     "metadata": {},
     "output_type": "execute_result"
    }
   ],
   "source": [
    "#VIPUL PATIL\n",
    "\"\"\"The standard Transformer receives as input a 1D\n",
    "sequence of token embeddings. To handle 2D images, we reshape the image x ∈ R(H×W×C) into a\n",
    "sequence of flattened 2D patches xp ∈R(N×(P^2·C))\n",
    "- , where (H, W) is the resolution of the original image, \n",
    "- C is the number of channels, \n",
    "- (P, P) is the resolution of each image patch, \n",
    "- and N = HW/P^2 is the resulting number of patches, which also serves as the effective input sequence length for the Transformer.\n",
    "- The Transformer uses constant latent vector size D through all of its layers, \n",
    "- so we flatten the patches and map to D dimensions with a trainable linear projection (Eq. 1). \n",
    "- We refer to the output of this projection as the patch embeddings.\"\"\""
   ]
  },
  {
   "cell_type": "code",
   "execution_count": 67,
   "metadata": {},
   "outputs": [
    {
     "name": "stdout",
     "output_type": "stream",
     "text": [
      "torch.Size([7, 10])\n"
     ]
    }
   ],
   "source": [
    "import torch.nn as nn\n",
    "import torch\n",
    "import torch.nn.functional as F\n",
    "import math\n",
    "\n",
    "\n",
    "def extract_patches(images, num_patches_per_dim=7):\n",
    "    \"\"\"\n",
    "    Extract patches from images and return them in the desired shape.\n",
    "\n",
    "    Parameters:\n",
    "    - images (torch.Tensor): Input tensor of shape (B, C, H, W)\n",
    "    - num_patches_per_dim (int): Number of patches along one dimension (P). Default is 7.\n",
    "\n",
    "    Returns:\n",
    "    - torch.Tensor: Output tensor of shape (B, P*P, (H*W)/(P*P) * C)\n",
    "    \"\"\"\n",
    "    B, C, H, W = images.shape\n",
    "    patch_size_h = H // num_patches_per_dim\n",
    "    patch_size_w = W // num_patches_per_dim\n",
    "    \n",
    "    assert H % num_patches_per_dim == 0 and W % num_patches_per_dim == 0, \"Image dimensions must be divisible by the number of patches per dimension.\"\n",
    "    \n",
    "#     patches = []\n",
    "#     for i in range(num_patches_per_dim):\n",
    "#         for j in range(num_patches_per_dim):\n",
    "#             patch = images[:, :, i * patch_size_h:(i + 1) * patch_size_h, j * patch_size_w:(j + 1) * patch_size_w]\n",
    "#             patches.append(patch)\n",
    "\n",
    "    patches = F.unfold(images, kernel_size=(patch_size_h, patch_size_w), stride=(patch_size_h, patch_size_w))\n",
    "    #print(patches.shape)\n",
    "    \n",
    "    # Reshape the patches\n",
    "    patches = patches.permute(0, 2, 1)\n",
    "    patches = patches.view(B, -1, patch_size_h * patch_size_w * C)\n",
    "    \n",
    "    return patches\n",
    "\n",
    "\n",
    "def get_pos_embeddings(n_patches, d):\n",
    "        \"\"\"\n",
    "        Generate sinusoidal positional embeddings for each patch.\n",
    "        \n",
    "        Returns:\n",
    "        - torch.Tensor: Positional embeddings of shape (P*P + 1, d) -> extra dim for classification token \n",
    "        \"\"\"\n",
    "        num_patches = n_patches * n_patches\n",
    "        position = torch.arange(num_patches + 1, dtype=torch.float).unsqueeze(1) # adding patch size dimension\n",
    "        div_term = torch.exp(torch.arange(0, d, 2).float() * (-math.log(10000.0) /d))\n",
    "        \n",
    "        pos_emb = torch.zeros(num_patches + 1, d)\n",
    "        pos_emb[:, 0::2] = torch.sin(position * div_term)\n",
    "        pos_emb[:, 1::2] = torch.cos(position * div_term)\n",
    "        \n",
    "        return pos_emb.unsqueeze(0)  # adding batch dimension\n",
    "    \n",
    "\n",
    "class MHSA(nn.Module):\n",
    "    def __init__(self, d, n_heads=2): # d: dimension of embedding spacr, n_head: dimension of attention heads\n",
    "        super(MHSA, self).__init__()\n",
    "        self.d = d\n",
    "        self.n_heads = n_heads\n",
    "        self.head_dim = d // n_heads\n",
    "        \n",
    "        self.query = nn.Linear(self.head_dim, self.head_dim)\n",
    "        self.key = nn.Linear(self.head_dim, self.head_dim)\n",
    "        self.value = nn.Linear(self.head_dim, self.head_dim)\n",
    "        self.out_proj = nn.Linear(d, d)\n",
    "        \n",
    "    def forward(self, x):\n",
    "        B, N, D = x.shape # Sequences has shape (N, seq_length, token_dim)\n",
    "        x = x.view(B, N, self.n_heads, self.head_dim)  # Shape is transformed to   (N, seq_length, n_heads, token_dim / n_heads)\n",
    "        Q = self.query(x) \n",
    "        #print(Q.shape)\n",
    "        K = self.key(x)\n",
    "        V = self.value(x)\n",
    "        \n",
    "        QK_T = torch.einsum('bnhd,bmhd->bhnm', Q, K)\n",
    "        #print(QK_T.shape)\n",
    "        scale = math.sqrt(self.head_dim)\n",
    "        attn = torch.softmax(QK_T / scale, dim=-1)\n",
    "        #print(attn.shape)\n",
    "        attn_out = torch.einsum('bhnm,bmhd->bnhd', attn, V)\n",
    "        \n",
    "        attn_out = attn_out.reshape(B, N, D) # And finally we return back    (N, seq_length, item_dim)  \n",
    "        out = self.out_proj(attn_out)\n",
    "        \n",
    "        return out \n",
    "\n",
    "    \n",
    "class ViTEncoder(nn.Module):\n",
    "    def __init__(self, hidden_d, n_heads):\n",
    "        super(ViTEncoder, self).__init__()\n",
    "        self.hidden_d = hidden_d\n",
    "        self.n_heads = n_heads\n",
    "\n",
    "        self.norm1 = nn.LayerNorm(hidden_d) # Add Layer-Norm\n",
    "        self.mhsa = MHSA(hidden_d, n_heads)\n",
    "        self.norm2 = nn.LayerNorm(hidden_d) # Add another Layer-Norm\n",
    "        self.mlp = nn.Sequential(\n",
    "            nn.Linear(hidden_d, 4 * hidden_d),\n",
    "            nn.GELU(),\n",
    "            nn.Linear(4 * hidden_d, hidden_d)\n",
    "        )\n",
    "\n",
    "\n",
    "    def forward(self, x):\n",
    "        out = x + self.mhsa(self.norm1(x)) # norm1->mhsa->+Residual\n",
    "        out = out + self.mlp(self.norm2(out))  # norm2->mlp->+Residual\n",
    "        return out\n",
    "\n",
    "    \n",
    "    \n",
    "class LightViT(nn.Module):\n",
    "    def __init__(self, image_shape, n_patches=7, n_blocks=2, d=8, n_heads=2, num_classes=10):\n",
    "        super(LightViT, self).__init__()\n",
    "        B, C, H, W = image_shape\n",
    "        self.patch_size_h = H//n_patches\n",
    "        self.patch_size_w = W//n_patches\n",
    "        self.d = d\n",
    "        self.n_patches = n_patches\n",
    "\n",
    "        ## Class Member\n",
    "\n",
    "        ## Linear Mapping\n",
    "        self.linear_map = nn.Linear(self.patch_size_h * self.patch_size_w * C, d)\n",
    "\n",
    "        ## Learnable Parameter\n",
    "        self.cls_token =  nn.Parameter(torch.randn(1, 1, d))\n",
    "\n",
    "        ## Positional embedding\n",
    "        self.pos_embed = nn.Parameter(get_pos_embeddings(n_patches, d), requires_grad=False)\n",
    "        \n",
    "\n",
    "        ## Encoder blocks\n",
    "        self.encoders = nn.ModuleList([ViTEncoder(d, n_heads) for _ in range(n_blocks)])\n",
    "\n",
    "        # Classification Head\n",
    "        self.classifier = nn.Linear(d, num_classes)\n",
    "    \n",
    "    \n",
    "    def forward(self, images):\n",
    "        B = images.size(0)\n",
    "        \n",
    "        ## Extract patches\n",
    "        img_patches = extract_patches(images, self.n_patches)\n",
    "\n",
    "        ## Linear mapping\n",
    "        patches = self.linear_map(img_patches)\n",
    "\n",
    "        ## Add classification token\n",
    "        \"\"\"Expand the classifier token to match the batch size and concatenate it to the patches\"\"\"\n",
    "        cls_tokens = self.cls_token.expand(B, -1, -1)\n",
    "        tokens = torch.cat((cls_tokens, patches), dim=1)\n",
    "\n",
    "        ## Add positional embeddings\n",
    "        positional_embedding = self.pos_embed.expand(B, -1, -1)\n",
    "        tokens += positional_embedding\n",
    "\n",
    "        # Pass through encoder blocks\n",
    "        for encoder in self.encoders:\n",
    "            tokens = encoder(tokens)\n",
    "\n",
    "        # Get classification token\n",
    "        cls_token_final = tokens[:, 0]\n",
    "\n",
    "        # Pass through classifier\n",
    "        logits = self.classifier(cls_token_final)\n",
    "\n",
    "        return logits\n",
    "\n",
    "\n",
    "\n",
    "# Test the LightViT model with a random image tensor\n",
    "if __name__ == '__main__':\n",
    "    image = torch.randn(7, 3, 224, 224)  # Example input with batch size 7 and image size 224x224\n",
    "    model = LightViT(image.shape)\n",
    "    output = model(image)\n",
    "    print(output.shape)  # Should print torch.Size([7, 10])"
   ]
  },
  {
   "cell_type": "markdown",
   "metadata": {},
   "source": [
    "## 1. Image Patches and Linear Mapping\n",
    "\n",
    "### A) Image Patches\n",
    "Transfomers were initially created to process sequential data. In case of images, a sequence can be created through extracting patches. To do so, a crop window should be used with a defined window height and width. The dimension of data is originally in the format of *(B,C,H,W)*, when transorfmed into patches and then flattened we get *(B, PxP, (HxC/P)x(WxC/P))*, where *B* is the batch size and *PxP* is total number of patches in an image. In this example, P=7. \n",
    "\n",
    "\n",
    "*Output*: A function that extracts image patches. The output format should have a shape of (B,49,16). The function will be used inside *LightViT* class."
   ]
  },
  {
   "cell_type": "code",
   "execution_count": 41,
   "metadata": {},
   "outputs": [
    {
     "name": "stdout",
     "output_type": "stream",
     "text": [
      "torch.Size([2, 27, 49])\n",
      "torch.Size([2, 49, 27])\n"
     ]
    }
   ],
   "source": [
    "\n",
    "def extract_patches(images, num_patches_per_dim=7):\n",
    "    \"\"\"\n",
    "    Extract patches from images and return them in the desired shape.\n",
    "\n",
    "    Parameters:\n",
    "    - images (torch.Tensor): Input tensor of shape (B, C, H, W)\n",
    "    - num_patches_per_dim (int): Number of patches along one dimension (P). Default is 7.\n",
    "\n",
    "    Returns:\n",
    "    - torch.Tensor: Output tensor of shape (B, P*P, (H*W)/(P*P) * C)\n",
    "    \"\"\"\n",
    "    B, C, H, W = images.shape\n",
    "    patch_size_h = H // num_patches_per_dim\n",
    "    patch_size_w = W // num_patches_per_dim\n",
    "    \n",
    "    assert H % num_patches_per_dim == 0 and W % num_patches_per_dim == 0, \"Image dimensions must be divisible by the number of patches per dimension.\"\n",
    "    \n",
    "#     patches = []\n",
    "#     for i in range(num_patches_per_dim):\n",
    "#         for j in range(num_patches_per_dim):\n",
    "#             patch = images[:, :, i * patch_size_h:(i + 1) * patch_size_h, j * patch_size_w:(j + 1) * patch_size_w]\n",
    "#             patches.append(patch)\n",
    "\n",
    "    patches = F.unfold(images, kernel_size=(patch_size_h, patch_size_w), stride=(patch_size_h, patch_size_w))\n",
    "    #print(patches.shape)\n",
    "    \n",
    "    # Reshape the patches\n",
    "    patches = patches.permute(0, 2, 1)\n",
    "    patches = patches.view(B, -1, patch_size_h * patch_size_w * C)\n",
    "    \n",
    "    return patches"
   ]
  },
  {
   "cell_type": "markdown",
   "metadata": {},
   "source": [
    "### B) Linear Mapping\n",
    "\n",
    "Afterwards, the input are mapped using a linear layer to an output with dimension *d* i.e. *(B, PxP, (HxC/P)x(WxC/P))* &rarr; *(B, PxP, d)*. The variable d can be freely chosen, however, we set here to 8. \n",
    "\n",
    "*Output*: A linear layer should be added inside *LightViT* class with the correct input and output dimensions, the output from the linear layer should have a dimension of (B,49,8). "
   ]
  },
  {
   "cell_type": "markdown",
   "metadata": {},
   "source": [
    "## 2. Insert Classifier Token and Positional embeddings\n",
    "\n",
    "### A) Classifier Token"
   ]
  },
  {
   "cell_type": "markdown",
   "metadata": {},
   "source": [
    "Beside the image patches, also known as tokens, an additional special token is appended to the the input to capture desired information about other tokens to learn the task at hand. Lateron, this token will be used as input to the classifier to determine the class of the input image. To add the token to the input is equivilant to concatentating a learnable parameter with a vector of the same dimension *d* to the image tokens. \n",
    "\n",
    "*Output* A randomly initialised learnable parameter to be implemented inside *LightViT* class. Used [PyTorch built-in function](https://pytorch.org/docs/stable/generated/torch.nn.parameter.Parameter.html) to create a PyTorch parameter."
   ]
  },
  {
   "cell_type": "markdown",
   "metadata": {},
   "source": [
    "### B) Positional Embedding\n",
    "\n",
    "To preserve the context of an image, positional embeddings are associated with each image patch. Positional embeddings encodes the patch positions using sinusoidal waves, however, there are other techniques. We follow the definition of positional encoding in the original transformer paper of [Vaswani et. al](https://arxiv.org/abs/1706.03762), which sinusoidal waves. You'll be required to implement a function that creates embeddings for each coordinate of every image patch. "
   ]
  },
  {
   "cell_type": "markdown",
   "metadata": {},
   "source": [
    "*Output* Inside *LightViT* class, implement a function that fetches the embedding and encapuslate it inside a non-learnable parameter."
   ]
  },
  {
   "cell_type": "code",
   "execution_count": 24,
   "metadata": {},
   "outputs": [],
   "source": [
    "def get_pos_embeddings(n_patches, d):\n",
    "        \"\"\"\n",
    "        Generate sinusoidal positional embeddings for each patch.\n",
    "        \n",
    "        Returns:\n",
    "        - torch.Tensor: Positional embeddings of shape (P*P + 1, d) -> extra dim for classification token \n",
    "        \"\"\"\n",
    "        num_patches = n_patches * n_patches\n",
    "        position = torch.arange(num_patches + 1, dtype=torch.float).unsqueeze(1) # adding patch size dimension\n",
    "        div_term = torch.exp(torch.arange(0, d, 2).float() * (-math.log(10000.0) /d))\n",
    "        \n",
    "        pos_emb = torch.zeros(num_patches + 1, d)\n",
    "        pos_emb[:, 0::2] = torch.sin(position * div_term)\n",
    "        pos_emb[:, 1::2] = torch.cos(position * div_term)\n",
    "        \n",
    "        return pos_emb.unsqueeze(0)  # adding batch dimension"
   ]
  },
  {
   "cell_type": "markdown",
   "metadata": {},
   "source": [
    "## 3. Encoder Block\n",
    "\n",
    "<center><img src=\"https://machinelearningmastery.com/wp-content/uploads/2021/08/attention_research_1.png\" alt=\"Alternative text\" width=\"400\" height=\"500\"/></center> \n",
    "<center><figcaption>Fig 2. Transformer Encoder.\"https://arxiv.org/pdf/2010.11929.pdf. </figcaption></center>  \n",
    "\n",
    "This part implements the main elements of an encoder block. A single block contains layer normalization (LN), multi-head self-attention (MHSA), and a residual connection.  \n",
    "\n",
    "### A) Layer Normalization\n",
    "[Layer normailzation](https://arxiv.org/abs/1607.06450), similar to other techniques, normalizes an input across the layer dimension by subtracting mean and dividing by standard deviation. \n",
    "### B) MHSA\n",
    "<center><img src=\"https://production-media.paperswithcode.com/methods/multi-head-attention_l1A3G7a.png\" alt=\"Alternative text\" width=\"300\" height=\"400\"/></center> \n",
    "<center><figcaption>Fig 2. Multi-Head Self Attention.\"https://arxiv.org/pdf/1706.03762v5.pdf. </figcaption></center>  \n",
    "  \n",
    " The attention module derives an attention value by measuring similarity between one patch and the other patches. To this end, an image patch with dimension *d* is linearly mapped to three vectors; query **q**, key **k**, and value **v** , hence a distint linear layer should be instantiated to get each of the three vectors. To quantify attention for a single patch, first, the dot product is computed between its **q** and all of the **k** vectors and divide by the square root of the vector dimension i.e. *d* = 8. The result is passed through a softmax layer to get *attention features* and finally multiple with **v** vectors associated with each of the **k** vectors and sum up to get the result. This allows to get an attention vector for each patch by measuring its similarity with other patches.\n",
    " \n",
    "  This process should be repeated **N** times on each of the **H** sub-vectors of the 8-dimensional patch, where **N** is the total number of attention blocks. In our case, let **N** = 2, hence, we have 2 sub-vectors, each of length 4. The first sub-vector is processed by the first head and the second sub-vector is process by the second head, each head has distinct Q,K, and V mapping functions of size 4x4. \n",
    " \n",
    "\n"
   ]
  },
  {
   "cell_type": "code",
   "execution_count": 34,
   "metadata": {},
   "outputs": [],
   "source": [
    "class MHSA(nn.Module):\n",
    "    def __init__(self, d, n_heads=2): # d: dimension of embedding spacr, n_head: dimension of attention heads\n",
    "        super(MHSA, self).__init__()\n",
    "        self.d = d\n",
    "        self.n_heads = n_heads\n",
    "        self.head_dim = d // n_heads\n",
    "        \n",
    "        self.query = nn.Linear(self.head_dim, self.head_dim)\n",
    "        self.key = nn.Linear(self.head_dim, self.head_dim)\n",
    "        self.value = nn.Linear(self.head_dim, self.head_dim)\n",
    "        self.out_proj = nn.Linear(d, d)\n",
    "        \n",
    "    def forward(self, x):\n",
    "        B, N, D = x.shape # Sequences has shape (N, seq_length, token_dim)\n",
    "        x = x.view(B, N, self.n_heads, self.head_dim)  # Shape is transformed to   (N, seq_length, n_heads, token_dim / n_heads)\n",
    "        Q = self.query(x) \n",
    "        # print(Q.shape)\n",
    "        K = self.key(x)\n",
    "        V = self.value(x)\n",
    "        \n",
    "        QK_T = torch.einsum('bnhd,bmhd->bhnm', Q, K)\n",
    "        #print(QK_T.shape)\n",
    "        scale = math.sqrt(self.head_dim)\n",
    "        attn = torch.softmax(QK_T / scale, dim=-1)\n",
    "        #print(attn.shape)\n",
    "        attn_out = torch.einsum('bhnm,bmhd->bnhd', attn, V)\n",
    "        \n",
    "        attn_out = attn_out.reshape(B, N, D) # And finally we return back    (N, seq_length, item_dim)  \n",
    "        out = self.out_proj(attn_out)\n",
    "        \n",
    "        return out "
   ]
  },
  {
   "cell_type": "markdown",
   "metadata": {},
   "source": [
    "### C) Residual Connection\n",
    "\n",
    "Residual connections (also know as skip connections) add the original input to the processed output by a network layer e.g. encoder. They have proven to be useful in deep neural networks as they mitigate problems like exploding / vanishing gradients. In transformer, the residual connection is adding the original input to the output from LN &rarr; MHSA. All of the previous operations could be implemented inside a seperate encoder class.\n",
    "\n",
    "The last part of an encoder, is to a inser another residual connection between the input to the encoder and the output from the encoder passed through another layer of LN &rarr; MLP. The MLP consists of 2 layers with hidden size 4 times larger than *d*."
   ]
  },
  {
   "cell_type": "markdown",
   "metadata": {},
   "source": [
    "*output*: The output from a single encoder block should have the same dimension as input."
   ]
  },
  {
   "cell_type": "code",
   "execution_count": 35,
   "metadata": {},
   "outputs": [],
   "source": [
    "class ViTEncoder(nn.Module):\n",
    "    def __init__(self, hidden_d, n_heads):\n",
    "        super(ViTEncoder, self).__init__()\n",
    "        self.hidden_d = hidden_d\n",
    "        self.n_heads = n_heads\n",
    "\n",
    "        self.norm1 = nn.LayerNorm(hidden_d) # Add Layer-Norm\n",
    "        self.mhsa = MHSA(hidden_d, n_heads)\n",
    "        self.norm2 = nn.LayerNorm(hidden_d) # Add another Layer-Norm\n",
    "        self.mlp = nn.Sequential(\n",
    "            nn.Linear(hidden_d, 4 * hidden_d),\n",
    "            nn.GELU(),\n",
    "            nn.Linear(4 * hidden_d, hidden_d)\n",
    "        )\n",
    "\n",
    "\n",
    "    def forward(self, x):\n",
    "        out = x + self.mhsa(self.norm1(x)) # norm1->mhsa->+Residual\n",
    "        out = out + self.mlp(self.norm2(out))  # norm2->mlp->+Residual\n",
    "        return out"
   ]
  },
  {
   "cell_type": "markdown",
   "metadata": {},
   "source": [
    "### C) Test Encoder\n"
   ]
  },
  {
   "cell_type": "code",
   "execution_count": 50,
   "metadata": {},
   "outputs": [
    {
     "name": "stdout",
     "output_type": "stream",
     "text": [
      "torch.Size([7, 50, 2, 4])\n",
      "torch.Size([7, 2, 50, 50])\n",
      "torch.Size([7, 2, 50, 50])\n",
      "torch.Size([7, 50, 8])\n"
     ]
    }
   ],
   "source": [
    "if __name__ == '__main__':\n",
    "    model = ViTEncoder(hidden_d=8, n_heads=2)\n",
    "\n",
    "    x = torch.randn(7, 50, 8)  \n",
    "    print(model(x).shape)"
   ]
  },
  {
   "cell_type": "markdown",
   "metadata": {},
   "source": [
    "## 4. Classification Head"
   ]
  },
  {
   "cell_type": "markdown",
   "metadata": {},
   "source": [
    "The final part of implemeting a transformer is adding a classification head to the model inside *LightViT* class. i.e. a linear layer that accepts input of dimension *d* and outputs logits with dimension set to the number of classes for the classification problem at hand."
   ]
  },
  {
   "cell_type": "markdown",
   "metadata": {},
   "source": [
    "## 5a. Model Training for MNIST"
   ]
  },
  {
   "cell_type": "markdown",
   "metadata": {},
   "source": [
    "Implementing a standard script for training and testing the model. Adam optimizer with 0.005 learning rate and train for 5 epochs."
   ]
  },
  {
   "cell_type": "code",
   "execution_count": 71,
   "metadata": {},
   "outputs": [
    {
     "name": "stdout",
     "output_type": "stream",
     "text": [
      "Epoch: 1, Train Loss: 1.2537, Train Accuracy: 51.96%, Test Loss: 0.8514, Test Accuracy: 68.21%\n",
      "Epoch: 2, Train Loss: 0.7817, Train Accuracy: 71.12%, Test Loss: 0.7426, Test Accuracy: 72.04%\n",
      "Epoch: 3, Train Loss: 0.6978, Train Accuracy: 74.30%, Test Loss: 0.6772, Test Accuracy: 75.35%\n",
      "Epoch: 4, Train Loss: 0.6575, Train Accuracy: 75.88%, Test Loss: 0.6208, Test Accuracy: 77.16%\n",
      "Epoch: 5, Train Loss: 0.6188, Train Accuracy: 77.28%, Test Loss: 0.6052, Test Accuracy: 77.84%\n"
     ]
    },
    {
     "data": {
      "image/png": "[encoded data removed]",
      "text/plain": [
       "<Figure size 640x480 with 1 Axes>"
      ]
     },
     "metadata": {},
     "output_type": "display_data"
    }
   ],
   "source": [
    "import torch\n",
    "import torch.nn as nn\n",
    "import torch.optim as optim\n",
    "from torch.utils.data import DataLoader\n",
    "from torchvision import datasets, transforms\n",
    "import matplotlib.pyplot as plt\n",
    "\n",
    "# Define transformations for FashionMNIST\n",
    "transform = transforms.Compose([\n",
    "    transforms.ToTensor(),\n",
    "    transforms.Normalize((0.5,), (0.5,))\n",
    "])\n",
    "\n",
    "# Load FashionMNIST dataset\n",
    "train_dataset = datasets.FashionMNIST(root='./data', train=True, download=True, transform=transform)\n",
    "test_dataset = datasets.FashionMNIST(root='./data', train=False, download=True, transform=transform)\n",
    "\n",
    "train_loader = DataLoader(train_dataset, batch_size=64, shuffle=True)\n",
    "test_loader = DataLoader(test_dataset, batch_size=64, shuffle=False)\n",
    "\n",
    "# Define the model\n",
    "image_shape = (64, 1, 28, 28)  # Batch size, Channels, Height, Width\n",
    "model = LightViT(image_shape, n_patches=7, n_blocks=2, d=8, n_heads=2, num_classes=10)\n",
    "\n",
    "# Function to train the model\n",
    "def train(model, train_loader, criterion, optimizer, device):\n",
    "    model.train()\n",
    "    running_loss = 0.0\n",
    "    correct = 0\n",
    "    total = 0\n",
    "\n",
    "    for images, labels in train_loader:\n",
    "        images, labels = images.to(device), labels.to(device)\n",
    "\n",
    "        optimizer.zero_grad()\n",
    "        outputs = model(images)\n",
    "        loss = criterion(outputs, labels)\n",
    "        loss.backward()\n",
    "        optimizer.step()\n",
    "\n",
    "        running_loss += loss.item()\n",
    "        _, predicted = outputs.max(1)\n",
    "        total += labels.size(0)\n",
    "        correct += predicted.eq(labels).sum().item()\n",
    "\n",
    "    epoch_loss = running_loss / len(train_loader)\n",
    "    epoch_acc = 100. * correct / total\n",
    "    return epoch_loss, epoch_acc\n",
    "\n",
    "# Function to test the model\n",
    "def test(model, test_loader, criterion, device):\n",
    "    model.eval()\n",
    "    running_loss = 0.0\n",
    "    correct = 0\n",
    "    total = 0\n",
    "\n",
    "    with torch.no_grad():\n",
    "        for images, labels in test_loader:\n",
    "            images, labels = images.to(device), labels.to(device)\n",
    "\n",
    "            outputs = model(images)\n",
    "            loss = criterion(outputs, labels)\n",
    "\n",
    "            running_loss += loss.item()\n",
    "            _, predicted = outputs.max(1)\n",
    "            total += labels.size(0)\n",
    "            correct += predicted.eq(labels).sum().item()\n",
    "\n",
    "    epoch_loss = running_loss / len(test_loader)\n",
    "    epoch_acc = 100. * correct / total\n",
    "    return epoch_loss, epoch_acc\n",
    "\n",
    "# Hyperparameters and other configurations\n",
    "device = torch.device(\"cuda\" if torch.cuda.is_available() else \"cpu\")\n",
    "model.to(device)\n",
    "criterion = nn.CrossEntropyLoss()\n",
    "epochs = 5\n",
    "learning_rate = 0.005\n",
    "\n",
    "# Define the optimizer\n",
    "optimizer = optim.Adam(model.parameters(), lr=learning_rate)\n",
    "\n",
    "# Lists to store the results\n",
    "train_losses, train_accuracies = [], []\n",
    "test_losses, test_accuracies = [], []\n",
    "\n",
    "for epoch in range(epochs):\n",
    "    train_loss, train_acc = train(model, train_loader, criterion, optimizer, device)\n",
    "    test_loss, test_acc = test(model, test_loader, criterion, device)\n",
    "\n",
    "    train_losses.append(train_loss)\n",
    "    train_accuracies.append(train_acc)\n",
    "    test_losses.append(test_loss)\n",
    "    test_accuracies.append(test_acc)\n",
    "\n",
    "    print(f'Epoch: {epoch+1}, Train Loss: {train_loss:.4f}, Train Accuracy: {train_acc:.2f}%, Test Loss: {test_loss:.4f}, Test Accuracy: {test_acc:.2f}%')\n",
    "\n",
    "# Plotting the results\n",
    "plt.plot(train_accuracies, label='Train Accuracy')\n",
    "plt.plot(test_accuracies, label='Test Accuracy')\n",
    "\n",
    "plt.xlabel('Epochs')\n",
    "plt.ylabel('Accuracy')\n",
    "plt.legend()\n",
    "plt.title('Training and Testing Accuracy with Learning Rate 0.005')\n",
    "plt.show()\n",
    "\n",
    "\n",
    "\n"
   ]
  },
  {
   "cell_type": "markdown",
   "metadata": {},
   "source": [
    "## 5b. Model Training for FashionMNIST\n"
   ]
  },
  {
   "cell_type": "code",
   "execution_count": 72,
   "metadata": {},
   "outputs": [
    {
     "name": "stdout",
     "output_type": "stream",
     "text": [
      "Learning Rate: 0.01, Epoch: 1, Train Loss: 0.9986, Train Accuracy: 61.59%, Test Loss: 0.7400, Test Accuracy: 72.06%\n",
      "Learning Rate: 0.01, Epoch: 2, Train Loss: 0.6941, Train Accuracy: 74.13%, Test Loss: 0.6526, Test Accuracy: 75.90%\n",
      "Learning Rate: 0.01, Epoch: 3, Train Loss: 0.6467, Train Accuracy: 76.11%, Test Loss: 0.6661, Test Accuracy: 75.19%\n",
      "Learning Rate: 0.01, Epoch: 4, Train Loss: 0.6215, Train Accuracy: 77.12%, Test Loss: 0.6961, Test Accuracy: 74.80%\n",
      "Learning Rate: 0.01, Epoch: 5, Train Loss: 0.5985, Train Accuracy: 77.74%, Test Loss: 0.6350, Test Accuracy: 76.59%\n",
      "Learning Rate: 0.001, Epoch: 1, Train Loss: 1.4727, Train Accuracy: 41.90%, Test Loss: 1.0540, Test Accuracy: 60.32%\n",
      "Learning Rate: 0.001, Epoch: 2, Train Loss: 0.9387, Train Accuracy: 64.43%, Test Loss: 0.9378, Test Accuracy: 64.20%\n",
      "Learning Rate: 0.001, Epoch: 3, Train Loss: 0.8284, Train Accuracy: 69.18%, Test Loss: 0.7974, Test Accuracy: 69.82%\n",
      "Learning Rate: 0.001, Epoch: 4, Train Loss: 0.7624, Train Accuracy: 71.64%, Test Loss: 0.7457, Test Accuracy: 72.69%\n",
      "Learning Rate: 0.001, Epoch: 5, Train Loss: 0.7185, Train Accuracy: 73.30%, Test Loss: 0.6990, Test Accuracy: 74.19%\n",
      "Learning Rate: 0.0001, Epoch: 1, Train Loss: 2.3146, Train Accuracy: 12.97%, Test Loss: 2.2401, Test Accuracy: 18.15%\n",
      "Learning Rate: 0.0001, Epoch: 2, Train Loss: 2.0994, Train Accuracy: 22.00%, Test Loss: 1.9476, Test Accuracy: 28.97%\n",
      "Learning Rate: 0.0001, Epoch: 3, Train Loss: 1.7731, Train Accuracy: 32.72%, Test Loss: 1.5758, Test Accuracy: 36.17%\n",
      "Learning Rate: 0.0001, Epoch: 4, Train Loss: 1.4319, Train Accuracy: 46.45%, Test Loss: 1.3169, Test Accuracy: 51.81%\n",
      "Learning Rate: 0.0001, Epoch: 5, Train Loss: 1.2222, Train Accuracy: 54.80%, Test Loss: 1.1521, Test Accuracy: 57.13%\n"
     ]
    },
    {
     "data": {
      "image/png": "[encoded data removed]",
      "text/plain": [
       "<Figure size 640x480 with 1 Axes>"
      ]
     },
     "metadata": {},
     "output_type": "display_data"
    },
    {
     "name": "stdout",
     "output_type": "stream",
     "text": [
      "The best learning rate is 0.01\n"
     ]
    }
   ],
   "source": [
    "learning_rates = [0.01, 0.001, 0.0001]\n",
    "results = {}\n",
    "\n",
    "for lr in learning_rates:\n",
    "    model = LightViT(image_shape, n_patches=7, n_blocks=2, d=8, n_heads=2, num_classes=10)\n",
    "    model.to(device)\n",
    "    optimizer = optim.Adam(model.parameters(), lr=lr)\n",
    "    train_losses, train_accuracies = [], []\n",
    "    test_losses, test_accuracies = [], []\n",
    "\n",
    "    for epoch in range(epochs):\n",
    "        train_loss, train_acc = train(model, train_loader, criterion, optimizer, device)\n",
    "        test_loss, test_acc = test(model, test_loader, criterion, device)\n",
    "\n",
    "        train_losses.append(train_loss)\n",
    "        train_accuracies.append(train_acc)\n",
    "        test_losses.append(test_loss)\n",
    "        test_accuracies.append(test_acc)\n",
    "\n",
    "        print(f'Learning Rate: {lr}, Epoch: {epoch+1}, Train Loss: {train_loss:.4f}, Train Accuracy: {train_acc:.2f}%, Test Loss: {test_loss:.4f}, Test Accuracy: {test_acc:.2f}%')\n",
    "\n",
    "    results[lr] = {\n",
    "        'train_accuracies': train_accuracies,\n",
    "        'test_accuracies': test_accuracies\n",
    "    }\n",
    "\n",
    "# Plotting the results for different learning rates\n",
    "for lr in learning_rates:\n",
    "    plt.plot(results[lr]['train_accuracies'], label=f'Train Acc LR={lr}')\n",
    "    plt.plot(results[lr]['test_accuracies'], label=f'Test Acc LR={lr}')\n",
    "\n",
    "plt.xlabel('Epochs')\n",
    "plt.ylabel('Accuracy')\n",
    "plt.legend()\n",
    "plt.title('Training and Testing Accuracy for Different Learning Rates')\n",
    "plt.show()\n",
    "\n",
    "# Select the best performing model based on test accuracy\n",
    "best_lr = max(results, key=lambda lr: max(results[lr]['test_accuracies']))\n",
    "print(f'The best learning rate is {best_lr}')\n"
   ]
  }
 ],
 "metadata": {
  "kernelspec": {
   "display_name": "Python 3 (ipykernel)",
   "language": "python",
   "name": "python3"
  },
  "language_info": {
   "codemirror_mode": {
    "name": "ipython",
    "version": 3
   },
   "file_extension": ".py",
   "mimetype": "text/x-python",
   "name": "python",
   "nbconvert_exporter": "python",
   "pygments_lexer": "ipython3",
   "version": "3.11.5"
  }
 },
 "nbformat": 4,
 "nbformat_minor": 2
}
